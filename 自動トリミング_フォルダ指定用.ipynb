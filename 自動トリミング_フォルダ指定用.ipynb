{
  "nbformat": 4,
  "nbformat_minor": 0,
  "metadata": {
    "colab": {
      "name": "自動トリミング_フォルダ指定用.ipynb",
      "provenance": [],
      "collapsed_sections": [],
      "mount_file_id": "16dJ02XwXpfB_iSUIXf36IkjIFo0L2oci",
      "authorship_tag": "ABX9TyMId3uKmgb6qvZzjX56EHyb",
      "include_colab_link": true
    },
    "kernelspec": {
      "name": "python3",
      "display_name": "Python 3"
    },
    "accelerator": "GPU",
    "widgets": {
      "application/vnd.jupyter.widget-state+json": {
        "2095af2d3dfb4806a1ec6ff98b3571bd": {
          "model_module": "@jupyter-widgets/controls",
          "model_name": "HBoxModel",
          "state": {
            "_view_name": "HBoxView",
            "_dom_classes": [],
            "_model_name": "HBoxModel",
            "_view_module": "@jupyter-widgets/controls",
            "_model_module_version": "1.5.0",
            "_view_count": null,
            "_view_module_version": "1.5.0",
            "box_style": "",
            "layout": "IPY_MODEL_e703a1b882e24312ac9e5b5a24cb7039",
            "_model_module": "@jupyter-widgets/controls",
            "children": [
              "IPY_MODEL_83564b7a050643b2b079484c7874cd5c",
              "IPY_MODEL_cba69c5dfb854ab996293cb69b73e672"
            ]
          }
        },
        "e703a1b882e24312ac9e5b5a24cb7039": {
          "model_module": "@jupyter-widgets/base",
          "model_name": "LayoutModel",
          "state": {
            "_view_name": "LayoutView",
            "grid_template_rows": null,
            "right": null,
            "justify_content": null,
            "_view_module": "@jupyter-widgets/base",
            "overflow": null,
            "_model_module_version": "1.2.0",
            "_view_count": null,
            "flex_flow": null,
            "width": null,
            "min_width": null,
            "border": null,
            "align_items": null,
            "bottom": null,
            "_model_module": "@jupyter-widgets/base",
            "top": null,
            "grid_column": null,
            "overflow_y": null,
            "overflow_x": null,
            "grid_auto_flow": null,
            "grid_area": null,
            "grid_template_columns": null,
            "flex": null,
            "_model_name": "LayoutModel",
            "justify_items": null,
            "grid_row": null,
            "max_height": null,
            "align_content": null,
            "visibility": null,
            "align_self": null,
            "height": null,
            "min_height": null,
            "padding": null,
            "grid_auto_rows": null,
            "grid_gap": null,
            "max_width": null,
            "order": null,
            "_view_module_version": "1.2.0",
            "grid_template_areas": null,
            "object_position": null,
            "object_fit": null,
            "grid_auto_columns": null,
            "margin": null,
            "display": null,
            "left": null
          }
        },
        "83564b7a050643b2b079484c7874cd5c": {
          "model_module": "@jupyter-widgets/controls",
          "model_name": "FloatProgressModel",
          "state": {
            "_view_name": "ProgressView",
            "style": "IPY_MODEL_f2d55226a33a486cadc4cf339cbeaf8f",
            "_dom_classes": [],
            "description": "100%",
            "_model_name": "FloatProgressModel",
            "bar_style": "success",
            "max": 178728960,
            "_view_module": "@jupyter-widgets/controls",
            "_model_module_version": "1.5.0",
            "value": 178728960,
            "_view_count": null,
            "_view_module_version": "1.5.0",
            "orientation": "horizontal",
            "min": 0,
            "description_tooltip": null,
            "_model_module": "@jupyter-widgets/controls",
            "layout": "IPY_MODEL_88eba56b47434c52b8df8129106b6650"
          }
        },
        "cba69c5dfb854ab996293cb69b73e672": {
          "model_module": "@jupyter-widgets/controls",
          "model_name": "HTMLModel",
          "state": {
            "_view_name": "HTMLView",
            "style": "IPY_MODEL_2d34ef7248194bcd9a6f292361aea525",
            "_dom_classes": [],
            "description": "",
            "_model_name": "HTMLModel",
            "placeholder": "​",
            "_view_module": "@jupyter-widgets/controls",
            "_model_module_version": "1.5.0",
            "value": " 170M/170M [00:04&lt;00:00, 42.2MB/s]",
            "_view_count": null,
            "_view_module_version": "1.5.0",
            "description_tooltip": null,
            "_model_module": "@jupyter-widgets/controls",
            "layout": "IPY_MODEL_73550cb1a78a4c198810ad4c948b00a2"
          }
        },
        "f2d55226a33a486cadc4cf339cbeaf8f": {
          "model_module": "@jupyter-widgets/controls",
          "model_name": "ProgressStyleModel",
          "state": {
            "_view_name": "StyleView",
            "_model_name": "ProgressStyleModel",
            "description_width": "initial",
            "_view_module": "@jupyter-widgets/base",
            "_model_module_version": "1.5.0",
            "_view_count": null,
            "_view_module_version": "1.2.0",
            "bar_color": null,
            "_model_module": "@jupyter-widgets/controls"
          }
        },
        "88eba56b47434c52b8df8129106b6650": {
          "model_module": "@jupyter-widgets/base",
          "model_name": "LayoutModel",
          "state": {
            "_view_name": "LayoutView",
            "grid_template_rows": null,
            "right": null,
            "justify_content": null,
            "_view_module": "@jupyter-widgets/base",
            "overflow": null,
            "_model_module_version": "1.2.0",
            "_view_count": null,
            "flex_flow": null,
            "width": null,
            "min_width": null,
            "border": null,
            "align_items": null,
            "bottom": null,
            "_model_module": "@jupyter-widgets/base",
            "top": null,
            "grid_column": null,
            "overflow_y": null,
            "overflow_x": null,
            "grid_auto_flow": null,
            "grid_area": null,
            "grid_template_columns": null,
            "flex": null,
            "_model_name": "LayoutModel",
            "justify_items": null,
            "grid_row": null,
            "max_height": null,
            "align_content": null,
            "visibility": null,
            "align_self": null,
            "height": null,
            "min_height": null,
            "padding": null,
            "grid_auto_rows": null,
            "grid_gap": null,
            "max_width": null,
            "order": null,
            "_view_module_version": "1.2.0",
            "grid_template_areas": null,
            "object_position": null,
            "object_fit": null,
            "grid_auto_columns": null,
            "margin": null,
            "display": null,
            "left": null
          }
        },
        "2d34ef7248194bcd9a6f292361aea525": {
          "model_module": "@jupyter-widgets/controls",
          "model_name": "DescriptionStyleModel",
          "state": {
            "_view_name": "StyleView",
            "_model_name": "DescriptionStyleModel",
            "description_width": "",
            "_view_module": "@jupyter-widgets/base",
            "_model_module_version": "1.5.0",
            "_view_count": null,
            "_view_module_version": "1.2.0",
            "_model_module": "@jupyter-widgets/controls"
          }
        },
        "73550cb1a78a4c198810ad4c948b00a2": {
          "model_module": "@jupyter-widgets/base",
          "model_name": "LayoutModel",
          "state": {
            "_view_name": "LayoutView",
            "grid_template_rows": null,
            "right": null,
            "justify_content": null,
            "_view_module": "@jupyter-widgets/base",
            "overflow": null,
            "_model_module_version": "1.2.0",
            "_view_count": null,
            "flex_flow": null,
            "width": null,
            "min_width": null,
            "border": null,
            "align_items": null,
            "bottom": null,
            "_model_module": "@jupyter-widgets/base",
            "top": null,
            "grid_column": null,
            "overflow_y": null,
            "overflow_x": null,
            "grid_auto_flow": null,
            "grid_area": null,
            "grid_template_columns": null,
            "flex": null,
            "_model_name": "LayoutModel",
            "justify_items": null,
            "grid_row": null,
            "max_height": null,
            "align_content": null,
            "visibility": null,
            "align_self": null,
            "height": null,
            "min_height": null,
            "padding": null,
            "grid_auto_rows": null,
            "grid_gap": null,
            "max_width": null,
            "order": null,
            "_view_module_version": "1.2.0",
            "grid_template_areas": null,
            "object_position": null,
            "object_fit": null,
            "grid_auto_columns": null,
            "margin": null,
            "display": null,
            "left": null
          }
        },
        "e03a6e59ce074050928935d45a5648a0": {
          "model_module": "@jupyter-widgets/controls",
          "model_name": "HBoxModel",
          "state": {
            "_view_name": "HBoxView",
            "_dom_classes": [],
            "_model_name": "HBoxModel",
            "_view_module": "@jupyter-widgets/controls",
            "_model_module_version": "1.5.0",
            "_view_count": null,
            "_view_module_version": "1.5.0",
            "box_style": "",
            "layout": "IPY_MODEL_27161a11dc9348dabe3e954eed3acf00",
            "_model_module": "@jupyter-widgets/controls",
            "children": [
              "IPY_MODEL_eec343470ce848d2a9a978632d46cbdb",
              "IPY_MODEL_a213334962cc48048d2b4ad52a096230"
            ]
          }
        },
        "27161a11dc9348dabe3e954eed3acf00": {
          "model_module": "@jupyter-widgets/base",
          "model_name": "LayoutModel",
          "state": {
            "_view_name": "LayoutView",
            "grid_template_rows": null,
            "right": null,
            "justify_content": null,
            "_view_module": "@jupyter-widgets/base",
            "overflow": null,
            "_model_module_version": "1.2.0",
            "_view_count": null,
            "flex_flow": null,
            "width": null,
            "min_width": null,
            "border": null,
            "align_items": null,
            "bottom": null,
            "_model_module": "@jupyter-widgets/base",
            "top": null,
            "grid_column": null,
            "overflow_y": null,
            "overflow_x": null,
            "grid_auto_flow": null,
            "grid_area": null,
            "grid_template_columns": null,
            "flex": null,
            "_model_name": "LayoutModel",
            "justify_items": null,
            "grid_row": null,
            "max_height": null,
            "align_content": null,
            "visibility": null,
            "align_self": null,
            "height": null,
            "min_height": null,
            "padding": null,
            "grid_auto_rows": null,
            "grid_gap": null,
            "max_width": null,
            "order": null,
            "_view_module_version": "1.2.0",
            "grid_template_areas": null,
            "object_position": null,
            "object_fit": null,
            "grid_auto_columns": null,
            "margin": null,
            "display": null,
            "left": null
          }
        },
        "eec343470ce848d2a9a978632d46cbdb": {
          "model_module": "@jupyter-widgets/controls",
          "model_name": "FloatProgressModel",
          "state": {
            "_view_name": "ProgressView",
            "style": "IPY_MODEL_d5167499a4f34211a9e3bd7c0e3d4ef1",
            "_dom_classes": [],
            "description": "100%",
            "_model_name": "FloatProgressModel",
            "bar_style": "success",
            "max": 244545539,
            "_view_module": "@jupyter-widgets/controls",
            "_model_module_version": "1.5.0",
            "value": 244545539,
            "_view_count": null,
            "_view_module_version": "1.5.0",
            "orientation": "horizontal",
            "min": 0,
            "description_tooltip": null,
            "_model_module": "@jupyter-widgets/controls",
            "layout": "IPY_MODEL_a51046390d494f09a11f1aa5a6a0843d"
          }
        },
        "a213334962cc48048d2b4ad52a096230": {
          "model_module": "@jupyter-widgets/controls",
          "model_name": "HTMLModel",
          "state": {
            "_view_name": "HTMLView",
            "style": "IPY_MODEL_328b2f0538774ff98947705b571b0859",
            "_dom_classes": [],
            "description": "",
            "_model_name": "HTMLModel",
            "placeholder": "​",
            "_view_module": "@jupyter-widgets/controls",
            "_model_module_version": "1.5.0",
            "value": " 233M/233M [00:02&lt;00:00, 90.1MB/s]",
            "_view_count": null,
            "_view_module_version": "1.5.0",
            "description_tooltip": null,
            "_model_module": "@jupyter-widgets/controls",
            "layout": "IPY_MODEL_41d91dae203d44c2baefe4a9581359e2"
          }
        },
        "d5167499a4f34211a9e3bd7c0e3d4ef1": {
          "model_module": "@jupyter-widgets/controls",
          "model_name": "ProgressStyleModel",
          "state": {
            "_view_name": "StyleView",
            "_model_name": "ProgressStyleModel",
            "description_width": "initial",
            "_view_module": "@jupyter-widgets/base",
            "_model_module_version": "1.5.0",
            "_view_count": null,
            "_view_module_version": "1.2.0",
            "bar_color": null,
            "_model_module": "@jupyter-widgets/controls"
          }
        },
        "a51046390d494f09a11f1aa5a6a0843d": {
          "model_module": "@jupyter-widgets/base",
          "model_name": "LayoutModel",
          "state": {
            "_view_name": "LayoutView",
            "grid_template_rows": null,
            "right": null,
            "justify_content": null,
            "_view_module": "@jupyter-widgets/base",
            "overflow": null,
            "_model_module_version": "1.2.0",
            "_view_count": null,
            "flex_flow": null,
            "width": null,
            "min_width": null,
            "border": null,
            "align_items": null,
            "bottom": null,
            "_model_module": "@jupyter-widgets/base",
            "top": null,
            "grid_column": null,
            "overflow_y": null,
            "overflow_x": null,
            "grid_auto_flow": null,
            "grid_area": null,
            "grid_template_columns": null,
            "flex": null,
            "_model_name": "LayoutModel",
            "justify_items": null,
            "grid_row": null,
            "max_height": null,
            "align_content": null,
            "visibility": null,
            "align_self": null,
            "height": null,
            "min_height": null,
            "padding": null,
            "grid_auto_rows": null,
            "grid_gap": null,
            "max_width": null,
            "order": null,
            "_view_module_version": "1.2.0",
            "grid_template_areas": null,
            "object_position": null,
            "object_fit": null,
            "grid_auto_columns": null,
            "margin": null,
            "display": null,
            "left": null
          }
        },
        "328b2f0538774ff98947705b571b0859": {
          "model_module": "@jupyter-widgets/controls",
          "model_name": "DescriptionStyleModel",
          "state": {
            "_view_name": "StyleView",
            "_model_name": "DescriptionStyleModel",
            "description_width": "",
            "_view_module": "@jupyter-widgets/base",
            "_model_module_version": "1.5.0",
            "_view_count": null,
            "_view_module_version": "1.2.0",
            "_model_module": "@jupyter-widgets/controls"
          }
        },
        "41d91dae203d44c2baefe4a9581359e2": {
          "model_module": "@jupyter-widgets/base",
          "model_name": "LayoutModel",
          "state": {
            "_view_name": "LayoutView",
            "grid_template_rows": null,
            "right": null,
            "justify_content": null,
            "_view_module": "@jupyter-widgets/base",
            "overflow": null,
            "_model_module_version": "1.2.0",
            "_view_count": null,
            "flex_flow": null,
            "width": null,
            "min_width": null,
            "border": null,
            "align_items": null,
            "bottom": null,
            "_model_module": "@jupyter-widgets/base",
            "top": null,
            "grid_column": null,
            "overflow_y": null,
            "overflow_x": null,
            "grid_auto_flow": null,
            "grid_area": null,
            "grid_template_columns": null,
            "flex": null,
            "_model_name": "LayoutModel",
            "justify_items": null,
            "grid_row": null,
            "max_height": null,
            "align_content": null,
            "visibility": null,
            "align_self": null,
            "height": null,
            "min_height": null,
            "padding": null,
            "grid_auto_rows": null,
            "grid_gap": null,
            "max_width": null,
            "order": null,
            "_view_module_version": "1.2.0",
            "grid_template_areas": null,
            "object_position": null,
            "object_fit": null,
            "grid_auto_columns": null,
            "margin": null,
            "display": null,
            "left": null
          }
        }
      }
    }
  },
  "cells": [
    {
      "cell_type": "markdown",
      "metadata": {
        "id": "view-in-github",
        "colab_type": "text"
      },
      "source": [
        "<a href=\"https://colab.research.google.com/github/hodaka/MakeTrimmingMap/blob/work/%E8%87%AA%E5%8B%95%E3%83%88%E3%83%AA%E3%83%9F%E3%83%B3%E3%82%B0_%E3%83%95%E3%82%A9%E3%83%AB%E3%83%80%E6%8C%87%E5%AE%9A%E7%94%A8.ipynb\" target=\"_parent\"><img src=\"https://colab.research.google.com/assets/colab-badge.svg\" alt=\"Open In Colab\"/></a>"
      ]
    },
    {
      "cell_type": "markdown",
      "metadata": {
        "id": "MYhxvDgxyUiQ"
      },
      "source": [
        "# 人物を切り抜く準備としてのトリミングマップを作製するためのスクリプト\r\n",
        "\r\n",
        "\r\n",
        "---\r\n",
        "[参考URL](https://v-hramchenko.medium.com/how-to-cut-out-a-person-in-an-image-with-open-source-projects-e5e7f8798d5c)"
      ]
    },
    {
      "cell_type": "markdown",
      "metadata": {
        "id": "iOMomEBfAqWh"
      },
      "source": [
        "1.   各種ライブラリのインポート"
      ]
    },
    {
      "cell_type": "code",
      "metadata": {
        "id": "IQyKsMvLAWIh",
        "colab": {
          "base_uri": "https://localhost:8080/"
        },
        "outputId": "3e52da62-0f13-4e41-b316-4417bbccf4ff"
      },
      "source": [
        "# GPUサポートを備えたTensorライブラリ(PyTorch自体はインストール済みcolabにインストール済み？)\r\n",
        "import torch\r\n",
        "# ファイル操作用\r\n",
        "import os\r\n",
        "# 画像操作ライブラリ\r\n",
        "import cv2\r\n",
        "# ファイルパス操作用ライブラリ\r\n",
        "import glob\r\n",
        "# 機械学習用拡張ライブラリ\r\n",
        "import numpy as np\r\n",
        "# 計算結果をグラフィカルに表示するライブラリ\r\n",
        "import matplotlib.pyplot as plt\r\n",
        "\r\n",
        "# セグメンテーション用ライブラリ\r\n",
        "from torchvision.models.segmentation import deeplabv3_resnet101\r\n",
        "# 画像の前処理や学習済みモデルなどを提供するエコシステム\r\n",
        "from torchvision import transforms\r\n",
        "# ファイル操作関連ライブラリ\r\n",
        "from google.colab import files\r\n",
        "# デバック用画像表示用ライブラリ\r\n",
        "from IPython.display import Image, display\r\n",
        "\r\n",
        "# 輪郭切り抜き用ライブラリ\r\n",
        "!git clone https://github.com/MarcoForte/FBA-Matting.git\r\n",
        "%cd FBA-Matting\r\n",
        "\r\n",
        "import sys\r\n",
        "sys.path.append(\"./FBA_Matting\")\r\n",
        "\r\n",
        "from demo import np_to_torch, pred, scale_input\r\n",
        "from dataloader import read_image, read_trimap\r\n",
        "from networks.models import build_model\r\n",
        "\r\n",
        "class Args:\r\n",
        "    encoder = 'resnet50_GN_WS'\r\n",
        "    decoder = 'fba_decoder'\r\n",
        "    weights = 'FBA.pth'\r\n",
        "\r\n",
        "args=Args()\r\n",
        "# 学習用のモデルを構築\r\n",
        "try:\r\n",
        "    model = build_model(args)\r\n",
        "except:\r\n",
        "    !gdown  https://drive.google.com/uc?id=1T_oiKDE_biWf2kqexMEN7ObWqtXAzbB1\r\n",
        "    model = build_model(args)"
      ],
      "execution_count": 2,
      "outputs": [
        {
          "output_type": "stream",
          "text": [
            "Cloning into 'FBA-Matting'...\n",
            "remote: Enumerating objects: 119, done.\u001b[K\n",
            "remote: Counting objects: 100% (119/119), done.\u001b[K\n",
            "remote: Compressing objects: 100% (107/107), done.\u001b[K\n",
            "remote: Total 119 (delta 48), reused 47 (delta 10), pack-reused 0\u001b[K\n",
            "Receiving objects: 100% (119/119), 4.59 MiB | 8.11 MiB/s, done.\n",
            "Resolving deltas: 100% (48/48), done.\n",
            "/content/FBA-Matting\n",
            "modifying input layer to accept 11 channels\n",
            "Downloading...\n",
            "From: https://drive.google.com/uc?id=1T_oiKDE_biWf2kqexMEN7ObWqtXAzbB1\n",
            "To: /content/FBA-Matting/FBA.pth\n",
            "139MB [00:01, 124MB/s] \n",
            "modifying input layer to accept 11 channels\n"
          ],
          "name": "stdout"
        }
      ]
    },
    {
      "cell_type": "markdown",
      "metadata": {
        "id": "_OqR7rnXBuhH"
      },
      "source": [
        "2.   グーグルドライブをマウント\r\n",
        "\r\n"
      ]
    },
    {
      "cell_type": "code",
      "metadata": {
        "id": "vB8vimbjcosF",
        "colab": {
          "base_uri": "https://localhost:8080/"
        },
        "outputId": "63f0c395-44fe-4c1a-bfb0-eba1265d452b"
      },
      "source": [
        "drive.mount('/drive')"
      ],
      "execution_count": 3,
      "outputs": [
        {
          "output_type": "stream",
          "text": [
            "Mounted at /drive\n"
          ],
          "name": "stdout"
        }
      ]
    },
    {
      "cell_type": "code",
      "metadata": {
        "id": "nyH3L8plB8PN",
        "colab": {
          "base_uri": "https://localhost:8080/",
          "height": 153,
          "referenced_widgets": [
            "2095af2d3dfb4806a1ec6ff98b3571bd",
            "e703a1b882e24312ac9e5b5a24cb7039",
            "83564b7a050643b2b079484c7874cd5c",
            "cba69c5dfb854ab996293cb69b73e672",
            "f2d55226a33a486cadc4cf339cbeaf8f",
            "88eba56b47434c52b8df8129106b6650",
            "2d34ef7248194bcd9a6f292361aea525",
            "73550cb1a78a4c198810ad4c948b00a2",
            "e03a6e59ce074050928935d45a5648a0",
            "27161a11dc9348dabe3e954eed3acf00",
            "eec343470ce848d2a9a978632d46cbdb",
            "a213334962cc48048d2b4ad52a096230",
            "d5167499a4f34211a9e3bd7c0e3d4ef1",
            "a51046390d494f09a11f1aa5a6a0843d",
            "328b2f0538774ff98947705b571b0859",
            "41d91dae203d44c2baefe4a9581359e2"
          ]
        },
        "outputId": "21c38199-4957-4183-c7f3-ff8dcff28da3"
      },
      "source": [
        "# 対象を取得するセグメンテーション用ライブラリを定義\r\n",
        "def make_deeplab(device):\r\n",
        "    deeplab = deeplabv3_resnet101(pretrained=True).to(device)\r\n",
        "    deeplab.eval()\r\n",
        "    return deeplab\r\n",
        "\r\n",
        "device = torch.device(\"cpu\")\r\n",
        "deeplab = make_deeplab(device)\r\n",
        "\r\n",
        "\r\n"
      ],
      "execution_count": 4,
      "outputs": [
        {
          "output_type": "stream",
          "text": [
            "Downloading: \"https://download.pytorch.org/models/resnet101-5d3b4d8f.pth\" to /root/.cache/torch/hub/checkpoints/resnet101-5d3b4d8f.pth\n"
          ],
          "name": "stderr"
        },
        {
          "output_type": "display_data",
          "data": {
            "application/vnd.jupyter.widget-view+json": {
              "model_id": "2095af2d3dfb4806a1ec6ff98b3571bd",
              "version_minor": 0,
              "version_major": 2
            },
            "text/plain": [
              "HBox(children=(FloatProgress(value=0.0, max=178728960.0), HTML(value='')))"
            ]
          },
          "metadata": {
            "tags": []
          }
        },
        {
          "output_type": "stream",
          "text": [
            "\n"
          ],
          "name": "stdout"
        },
        {
          "output_type": "stream",
          "text": [
            "Downloading: \"https://download.pytorch.org/models/deeplabv3_resnet101_coco-586e9e4e.pth\" to /root/.cache/torch/hub/checkpoints/deeplabv3_resnet101_coco-586e9e4e.pth\n"
          ],
          "name": "stderr"
        },
        {
          "output_type": "display_data",
          "data": {
            "application/vnd.jupyter.widget-view+json": {
              "model_id": "e03a6e59ce074050928935d45a5648a0",
              "version_minor": 0,
              "version_major": 2
            },
            "text/plain": [
              "HBox(children=(FloatProgress(value=0.0, max=244545539.0), HTML(value='')))"
            ]
          },
          "metadata": {
            "tags": []
          }
        },
        {
          "output_type": "stream",
          "text": [
            "\n"
          ],
          "name": "stdout"
        }
      ]
    },
    {
      "cell_type": "code",
      "metadata": {
        "colab": {
          "base_uri": "https://localhost:8080/"
        },
        "id": "fbZaIKWdckn9",
        "outputId": "f997e69b-0755-4bf7-e517-9b97ae6cf8e8"
      },
      "source": [
        "\r\n",
        "# 読み取り対象のフォルダパスを指定\r\n",
        "read_path = \"/drive/MyDrive/ImageData/NamioHarukawa_base\"\r\n",
        "# 出力対象のフォルダパスを指定\r\n",
        "output_path = read_path + \"/ResultOutput/\"\r\n",
        "\r\n",
        "#ディレクトリ作成(なければ)\r\n",
        "if not os.path.exists(output_path):\r\n",
        "  os.makedirs(output_path)\r\n",
        "\r\n",
        "for idx,imageFilePath in enumerate(glob.glob(read_path + \"/*.*\")):\r\n",
        "  print(imageFilePath)\r\n",
        "  img_orig = cv2.imread(imageFilePath, 1)\r\n",
        "  k = min(1.0, 1024/max(img_orig.shape[0], img_orig.shape[1]))\r\n",
        "  img = cv2.resize(img_orig, None, fx=k, fy=k, interpolation=cv2.INTER_LANCZOS4)\r\n",
        "\r\n",
        "  deeplab_preprocess = transforms.Compose([\r\n",
        "    transforms.ToTensor(),\r\n",
        "    transforms.Normalize(mean=[0.485, 0.456, 0.406], std=[0.229, 0.224, 0.225]),\r\n",
        "  ])\r\n",
        "\r\n",
        "  def apply_deeplab(deeplab, img, device):\r\n",
        "    input_tensor = deeplab_preprocess(img)\r\n",
        "    input_batch = input_tensor.unsqueeze(0)\r\n",
        "    with torch.no_grad():\r\n",
        "        output = deeplab(input_batch.to(device))['out'][0]\r\n",
        "    output_predictions = output.argmax(0).cpu().numpy()\r\n",
        "    # 15が人を表しているらしい…\r\n",
        "    return (output_predictions == 15)\r\n",
        "\r\n",
        "  mask = apply_deeplab(deeplab, img, device)\r\n",
        "  \r\n",
        "  trimap = np.zeros((mask.shape[0], mask.shape[1], 2))\r\n",
        "  trimap[:, :, 1] = mask > 0\r\n",
        "  trimap[:, :, 0] = mask == 0\r\n",
        "  kernel = cv2.getStructuringElement(cv2.MORPH_ELLIPSE,(25,25))\r\n",
        "\r\n",
        "  trimap[:, :, 0] = cv2.erode(trimap[:, :, 0], kernel)\r\n",
        "  trimap[:, :, 1] = cv2.erode(trimap[:, :, 1], kernel)\r\n",
        "\r\n",
        "  fg, bg, alpha = pred((img/255.0)[:, :, ::-1], trimap, model)\r\n",
        "\r\n",
        "  img_ = img_orig.astype(np.float32)/255\r\n",
        "  alpha_ = cv2.resize(alpha, (img_.shape[1], img_.shape[0]), cv2.INTER_LANCZOS4)\r\n",
        "  fg_alpha = np.concatenate([img_, alpha_[:, :, np.newaxis]], axis=2)\r\n",
        "  outPath = output_path + \"trimed_\"+ str(idx) + \".png\"\r\n",
        "  print(outPath)\r\n",
        "  # PNGファイルとして保存しないと透過設定が有効にならない？\r\n",
        "  cv2.imwrite(outPath, (fg_alpha*255).astype(np.uint8))"
      ],
      "execution_count": null,
      "outputs": [
        {
          "output_type": "stream",
          "text": [
            "/drive/MyDrive/ImageData/NamioHarukawa_base/NamioHarukawa119.jpg\n",
            "/drive/MyDrive/ImageData/NamioHarukawa_base/ResultOutput/trimed_0.png\n",
            "/drive/MyDrive/ImageData/NamioHarukawa_base/NamioHarukawa115.jpg\n",
            "/drive/MyDrive/ImageData/NamioHarukawa_base/ResultOutput/trimed_1.png\n",
            "/drive/MyDrive/ImageData/NamioHarukawa_base/NamioHarukawa099.jpg\n",
            "/drive/MyDrive/ImageData/NamioHarukawa_base/ResultOutput/trimed_2.png\n",
            "/drive/MyDrive/ImageData/NamioHarukawa_base/NamioHarukawa066.jpg\n",
            "/drive/MyDrive/ImageData/NamioHarukawa_base/ResultOutput/trimed_3.png\n",
            "/drive/MyDrive/ImageData/NamioHarukawa_base/NamioHarukawa062.jpg\n",
            "/drive/MyDrive/ImageData/NamioHarukawa_base/ResultOutput/trimed_4.png\n",
            "/drive/MyDrive/ImageData/NamioHarukawa_base/NamioHarukawa054.jpg\n",
            "/drive/MyDrive/ImageData/NamioHarukawa_base/ResultOutput/trimed_5.png\n",
            "/drive/MyDrive/ImageData/NamioHarukawa_base/NamioHarukawa053.jpg\n",
            "/drive/MyDrive/ImageData/NamioHarukawa_base/ResultOutput/trimed_6.png\n",
            "/drive/MyDrive/ImageData/NamioHarukawa_base/NamioHarukawa049.jpg\n",
            "/drive/MyDrive/ImageData/NamioHarukawa_base/ResultOutput/trimed_7.png\n",
            "/drive/MyDrive/ImageData/NamioHarukawa_base/NamioHarukawa041.jpg\n"
          ],
          "name": "stdout"
        }
      ]
    }
  ]
}